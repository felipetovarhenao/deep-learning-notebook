{
 "cells": [
  {
   "cell_type": "code",
   "execution_count": 1,
   "id": "fd033a20",
   "metadata": {},
   "outputs": [
    {
     "name": "stderr",
     "output_type": "stream",
     "text": [
      "2022-10-24 19:56:23.813012: I tensorflow/core/platform/cpu_feature_guard.cc:193] This TensorFlow binary is optimized with oneAPI Deep Neural Network Library (oneDNN) to use the following CPU instructions in performance-critical operations:  AVX2 FMA\n",
      "To enable them in other operations, rebuild TensorFlow with the appropriate compiler flags.\n"
     ]
    }
   ],
   "source": [
    "#import the imdb review dataset object\n",
    "from keras.datasets import imdb"
   ]
  },
  {
   "cell_type": "code",
   "execution_count": 2,
   "id": "823839c5",
   "metadata": {},
   "outputs": [],
   "source": [
    "# load the top 10000 words (as indices of a word dict) from each review, by relevance and assign to test and training data/labels\n",
    "(train_data, train_labels), (test_data, test_labels) = imdb.load_data(num_words=10000)"
   ]
  },
  {
   "cell_type": "code",
   "execution_count": 3,
   "id": "234b42e1",
   "metadata": {},
   "outputs": [],
   "source": [
    "# for demo purposes, get the dict showing each 'word': index key-value pair\n",
    "word_index = imdb.get_word_index()"
   ]
  },
  {
   "cell_type": "code",
   "execution_count": 4,
   "id": "cde2cd7a",
   "metadata": {},
   "outputs": [],
   "source": [
    "# invert key-value relationship\n",
    "reverse_word_index = dict(\n",
    "[(value, key) for key, value in word_index.items()])"
   ]
  },
  {
   "cell_type": "code",
   "execution_count": 5,
   "id": "f6a8615f",
   "metadata": {},
   "outputs": [],
   "source": [
    "# convert first review from index list to sentence\n",
    "decode_review = ' '.join(\n",
    "    [reverse_word_index.get(i-3, '?') for i in train_data[0]]\n",
    ")"
   ]
  },
  {
   "cell_type": "code",
   "execution_count": 6,
   "id": "9206ac36",
   "metadata": {},
   "outputs": [],
   "source": [
    "import numpy as np"
   ]
  },
  {
   "cell_type": "code",
   "execution_count": 7,
   "id": "7c0e88bb",
   "metadata": {},
   "outputs": [],
   "source": [
    "# function to manually create binary vector/mask of each review, each 10000 long.\n",
    "def vectorize_sequences(sequences, dim=10000):\n",
    "    results = np.zeros((len(sequences), dim))\n",
    "    for i, sequence in enumerate(sequences):\n",
    "        results[i, sequence] = 1\n",
    "    return results"
   ]
  },
  {
   "cell_type": "code",
   "execution_count": 8,
   "id": "32f67b0a",
   "metadata": {},
   "outputs": [],
   "source": [
    "x_train = vectorize_sequences(train_data)\n",
    "x_test = vectorize_sequences(test_data)"
   ]
  },
  {
   "cell_type": "code",
   "execution_count": 9,
   "id": "a98f2c83",
   "metadata": {},
   "outputs": [],
   "source": [
    "# convert binary labels to float32 arrays (length and dims do not change)\n",
    "y_train = np.asarray(train_labels).astype('float32')\n",
    "y_test = np.asarray(test_labels).astype('float32')"
   ]
  },
  {
   "cell_type": "code",
   "execution_count": 10,
   "id": "bb8e65e5",
   "metadata": {},
   "outputs": [],
   "source": [
    "# start building network\n",
    "from keras import models, layers"
   ]
  },
  {
   "cell_type": "code",
   "execution_count": 11,
   "id": "9bdabd6a",
   "metadata": {},
   "outputs": [
    {
     "name": "stderr",
     "output_type": "stream",
     "text": [
      "2022-10-24 19:56:32.080211: I tensorflow/core/platform/cpu_feature_guard.cc:193] This TensorFlow binary is optimized with oneAPI Deep Neural Network Library (oneDNN) to use the following CPU instructions in performance-critical operations:  AVX2 FMA\n",
      "To enable them in other operations, rebuild TensorFlow with the appropriate compiler flags.\n"
     ]
    }
   ],
   "source": [
    "# sequential model with 2 hidden dense layers of 16 units each, with relu activation, and a final dense \n",
    "# layer with a scalar output, with sigmoid activation.\n",
    "model = models.Sequential()\n",
    "model.add(layers.Dense(16, activation='relu', input_shape=(10000, )))\n",
    "model.add(layers.Dense(16, activation='relu'))\n",
    "model.add(layers.Dense(1, activation='sigmoid'))"
   ]
  },
  {
   "cell_type": "code",
   "execution_count": 12,
   "id": "339f4c95",
   "metadata": {},
   "outputs": [],
   "source": [
    "# specifying optimizer, loss function, and evaluation metric\n",
    "model.compile(\n",
    "    optimizer='rmsprop',\n",
    "    loss='binary_crossentropy',\n",
    "    metrics=['accuracy'])"
   ]
  },
  {
   "cell_type": "code",
   "execution_count": 13,
   "id": "a3674256",
   "metadata": {},
   "outputs": [],
   "source": [
    "# it's also possible to give custom configurations or even custom optimizers/loss functions/metrics\n",
    "from keras import optimizers, losses, metrics\n",
    "model.compile(\n",
    "    optimizers.RMSprop(learning_rate=0.001),\n",
    "    loss=losses.binary_crossentropy,\n",
    "    metrics=[metrics.binary_accuracy]\n",
    ")"
   ]
  },
  {
   "cell_type": "code",
   "execution_count": 14,
   "id": "763eda1a",
   "metadata": {},
   "outputs": [],
   "source": [
    "# split training set into validation and partial training\n",
    "validation_size = 10000\n",
    "\n",
    "x_val = x_train[:validation_size]\n",
    "partial_x_train = x_train[validation_size:]\n",
    "\n",
    "y_val = y_train[:validation_size]\n",
    "partial_y_train = y_train[validation_size:]"
   ]
  },
  {
   "cell_type": "code",
   "execution_count": 15,
   "id": "7691a998",
   "metadata": {},
   "outputs": [
    {
     "name": "stdout",
     "output_type": "stream",
     "text": [
      "Epoch 1/20\n",
      "30/30 [==============================] - 2s 27ms/step - loss: 0.5543 - acc: 0.7807 - val_loss: 0.4525 - val_acc: 0.8214\n",
      "Epoch 2/20\n",
      "30/30 [==============================] - 0s 12ms/step - loss: 0.3492 - acc: 0.8945 - val_loss: 0.3320 - val_acc: 0.8828\n",
      "Epoch 3/20\n",
      "30/30 [==============================] - 0s 12ms/step - loss: 0.2559 - acc: 0.9202 - val_loss: 0.2912 - val_acc: 0.8880\n",
      "Epoch 4/20\n",
      "30/30 [==============================] - 0s 12ms/step - loss: 0.1997 - acc: 0.9368 - val_loss: 0.2755 - val_acc: 0.8903\n",
      "Epoch 5/20\n",
      "30/30 [==============================] - 0s 12ms/step - loss: 0.1623 - acc: 0.9486 - val_loss: 0.2747 - val_acc: 0.8891\n",
      "Epoch 6/20\n",
      "30/30 [==============================] - 0s 12ms/step - loss: 0.1327 - acc: 0.9611 - val_loss: 0.2981 - val_acc: 0.8823\n",
      "Epoch 7/20\n",
      "30/30 [==============================] - 0s 12ms/step - loss: 0.1121 - acc: 0.9670 - val_loss: 0.2978 - val_acc: 0.8848\n",
      "Epoch 8/20\n",
      "30/30 [==============================] - 0s 13ms/step - loss: 0.0929 - acc: 0.9742 - val_loss: 0.3161 - val_acc: 0.8809\n",
      "Epoch 9/20\n",
      "30/30 [==============================] - 0s 12ms/step - loss: 0.0782 - acc: 0.9783 - val_loss: 0.3268 - val_acc: 0.8838\n",
      "Epoch 10/20\n",
      "30/30 [==============================] - 0s 13ms/step - loss: 0.0630 - acc: 0.9841 - val_loss: 0.3497 - val_acc: 0.8812\n",
      "Epoch 11/20\n",
      "30/30 [==============================] - 0s 13ms/step - loss: 0.0503 - acc: 0.9887 - val_loss: 0.3755 - val_acc: 0.8792\n",
      "Epoch 12/20\n",
      "30/30 [==============================] - 0s 13ms/step - loss: 0.0402 - acc: 0.9926 - val_loss: 0.4077 - val_acc: 0.8787\n",
      "Epoch 13/20\n",
      "30/30 [==============================] - 0s 12ms/step - loss: 0.0306 - acc: 0.9945 - val_loss: 0.4392 - val_acc: 0.8726\n",
      "Epoch 14/20\n",
      "30/30 [==============================] - 0s 12ms/step - loss: 0.0243 - acc: 0.9955 - val_loss: 0.4697 - val_acc: 0.8746\n",
      "Epoch 15/20\n",
      "30/30 [==============================] - 0s 13ms/step - loss: 0.0186 - acc: 0.9969 - val_loss: 0.5212 - val_acc: 0.8713\n",
      "Epoch 16/20\n",
      "30/30 [==============================] - 0s 15ms/step - loss: 0.0134 - acc: 0.9982 - val_loss: 0.5436 - val_acc: 0.8695\n",
      "Epoch 17/20\n",
      "30/30 [==============================] - 0s 12ms/step - loss: 0.0092 - acc: 0.9995 - val_loss: 0.5772 - val_acc: 0.8688\n",
      "Epoch 18/20\n",
      "30/30 [==============================] - 0s 13ms/step - loss: 0.0078 - acc: 0.9993 - val_loss: 0.6191 - val_acc: 0.8666\n",
      "Epoch 19/20\n",
      "30/30 [==============================] - 0s 13ms/step - loss: 0.0057 - acc: 0.9995 - val_loss: 0.6525 - val_acc: 0.8670\n",
      "Epoch 20/20\n",
      "30/30 [==============================] - 0s 12ms/step - loss: 0.0044 - acc: 0.9995 - val_loss: 0.7033 - val_acc: 0.8665\n"
     ]
    }
   ],
   "source": [
    "# train model, passing validation data as argument\n",
    "# specifying optimizer, loss function, and evaluation metric\n",
    "model.compile(\n",
    "    optimizer='rmsprop',\n",
    "    loss='binary_crossentropy',\n",
    "    metrics=['acc']) # seems to be different from 'binary_accuracy'\n",
    "\n",
    "history = model.fit(\n",
    "    partial_x_train,\n",
    "    partial_y_train,\n",
    "    epochs=20,\n",
    "    batch_size=512,\n",
    "    validation_data=(x_val, y_val))"
   ]
  },
  {
   "cell_type": "code",
   "execution_count": 16,
   "id": "5be9d03d",
   "metadata": {},
   "outputs": [
    {
     "data": {
      "text/plain": [
       "dict_keys(['loss', 'acc', 'val_loss', 'val_acc'])"
      ]
     },
     "execution_count": 16,
     "metadata": {},
     "output_type": "execute_result"
    }
   ],
   "source": [
    "# model.fit returns a History object\n",
    "history_dict = history.history\n",
    "history_dict.keys()"
   ]
  },
  {
   "cell_type": "code",
   "execution_count": 17,
   "id": "0253b67f",
   "metadata": {},
   "outputs": [
    {
     "data": {
      "image/png": "[encoded data removed]",
      "text/plain": [
       "<Figure size 640x480 with 1 Axes>"
      ]
     },
     "metadata": {},
     "output_type": "display_data"
    }
   ],
   "source": [
    "# plot training against validation metrics\n",
    "\n",
    "import matplotlib.pyplot as plt\n",
    "\n",
    "history_dict = history.history\n",
    "loss_values = history_dict['loss']\n",
    "val_loss_values = history_dict['val_loss']\n",
    "\n",
    "epochs = range(1, len(history_dict['acc']) + 1)\n",
    "\n",
    "plt.plot(epochs, loss_values, 'bo', label='Training loss')\n",
    "plt.plot(epochs, val_loss_values, 'b', label='Validation loss')\n",
    "plt.title('Training and validation loss')\n",
    "plt.xlabel('Epochs')\n",
    "plt.ylabel('Loss')\n",
    "plt.legend()\n",
    "\n",
    "plt.show()"
   ]
  },
  {
   "cell_type": "code",
   "execution_count": 18,
   "id": "8778bd66",
   "metadata": {},
   "outputs": [
    {
     "data": {
      "image/png": "[encoded data removed]",
      "text/plain": [
       "<Figure size 640x480 with 1 Axes>"
      ]
     },
     "metadata": {},
     "output_type": "display_data"
    }
   ],
   "source": [
    "# plot training and validation accuracy\n",
    "plt.clf() # clear plot figures\n",
    "acc_values = history_dict['acc']\n",
    "val_acc_values = history_dict['val_acc']\n",
    "\n",
    "plt.plot(epochs, acc_values, 'bo', label='Training accuracy')\n",
    "plt.plot(epochs, val_acc_values, 'b', label='Validation accuracy')\n",
    "plt.title('Training and validation accuracy')\n",
    "plt.xlabel('Epochs')\n",
    "plt.ylabel('Accuracy')\n",
    "plt.legend()\n",
    "\n",
    "plt.show()"
   ]
  },
  {
   "cell_type": "code",
   "execution_count": 19,
   "id": "844c09ec",
   "metadata": {},
   "outputs": [],
   "source": [
    "# Training process above, we have overfitting — the model performs well with the training data but not with new one"
   ]
  },
  {
   "cell_type": "code",
   "execution_count": 20,
   "id": "fcadbd3c",
   "metadata": {},
   "outputs": [
    {
     "name": "stdout",
     "output_type": "stream",
     "text": [
      "Epoch 1/4\n",
      "49/49 [==============================] - 1s 8ms/step - loss: 0.2116 - accuracy: 0.9480\n",
      "Epoch 2/4\n",
      "49/49 [==============================] - 0s 8ms/step - loss: 0.1337 - accuracy: 0.9597\n",
      "Epoch 3/4\n",
      "49/49 [==============================] - 0s 8ms/step - loss: 0.1030 - accuracy: 0.9690\n",
      "Epoch 4/4\n",
      "49/49 [==============================] - 0s 8ms/step - loss: 0.0786 - accuracy: 0.9765\n",
      "782/782 [==============================] - 1s 916us/step - loss: 0.5105 - accuracy: 0.8566\n"
     ]
    }
   ],
   "source": [
    "# training again and (naively) stopping at 4th epoch (or nth-epoch where validation peaks)\n",
    "model.compile(optimizer='rmsprop',\n",
    "              loss='binary_crossentropy',\n",
    "              metrics=['accuracy'])\n",
    "model.fit(x_train, y_train, epochs=4, batch_size=512)\n",
    "results = model.evaluate(x_test, y_test)"
   ]
  },
  {
   "cell_type": "code",
   "execution_count": 21,
   "id": "83039954",
   "metadata": {},
   "outputs": [
    {
     "name": "stdout",
     "output_type": "stream",
     "text": [
      "782/782 [==============================] - 1s 807us/step\n"
     ]
    },
    {
     "data": {
      "text/plain": [
       "array([[0.00567716],\n",
       "       [1.        ],\n",
       "       [0.72501016],\n",
       "       ...,\n",
       "       [0.0517085 ],\n",
       "       [0.02945533],\n",
       "       [0.74091315]], dtype=float32)"
      ]
     },
     "execution_count": 21,
     "metadata": {},
     "output_type": "execute_result"
    }
   ],
   "source": [
    "# performing predictions on unseen data\n",
    "model.predict(x_test)"
   ]
  },
  {
   "cell_type": "code",
   "execution_count": 22,
   "id": "c588b100",
   "metadata": {},
   "outputs": [],
   "source": [
    "# What follows are some parameter variations to see how results change"
   ]
  },
  {
   "cell_type": "code",
   "execution_count": 23,
   "id": "cfd0de5f",
   "metadata": {},
   "outputs": [],
   "source": [
    "# define a helper function\n",
    "def quick_model_test(num_hidden_layers=2, num_units=16, loss_function='binary_crossentropy', activation='relu'):\n",
    "    model = models.Sequential()\n",
    "    model.add(layers.Dense(num_units, activation=activation, input_shape=(10000,)))\n",
    "    for i in range(num_hidden_layers - 1):\n",
    "        model.add(layers.Dense(num_units, activation=activation))\n",
    "    model.add(layers.Dense(1, activation='sigmoid'))\n",
    "    model.compile(optimizer='rmsprop',\n",
    "                  loss=loss_function,\n",
    "                  metrics=['accuracy'])\n",
    "    model.fit(x_train, y_train, epochs=4, batch_size=512)\n",
    "    results = model.evaluate(x_test, y_test)\n",
    "    print(f'loss and accuracy: {results}')"
   ]
  },
  {
   "cell_type": "code",
   "execution_count": 24,
   "id": "0e479c94",
   "metadata": {},
   "outputs": [
    {
     "name": "stdout",
     "output_type": "stream",
     "text": [
      "Epoch 1/4\n",
      "49/49 [==============================] - 1s 7ms/step - loss: 0.5138 - accuracy: 0.8172\n",
      "Epoch 2/4\n",
      "49/49 [==============================] - 0s 7ms/step - loss: 0.2867 - accuracy: 0.9043\n",
      "Epoch 3/4\n",
      "49/49 [==============================] - 0s 7ms/step - loss: 0.2097 - accuracy: 0.9256\n",
      "Epoch 4/4\n",
      "49/49 [==============================] - 0s 7ms/step - loss: 0.1716 - accuracy: 0.9394\n",
      "782/782 [==============================] - 1s 924us/step - loss: 0.3090 - accuracy: 0.8799\n",
      "loss and accuracy: [0.30899444222450256, 0.8798800110816956]\n"
     ]
    }
   ],
   "source": [
    "# 3 layer model\n",
    "quick_model_test(num_hidden_layers=3)"
   ]
  },
  {
   "cell_type": "code",
   "execution_count": 25,
   "id": "5de469ba",
   "metadata": {},
   "outputs": [
    {
     "name": "stdout",
     "output_type": "stream",
     "text": [
      "Epoch 1/4\n",
      "49/49 [==============================] - 1s 8ms/step - loss: 0.4477 - accuracy: 0.8286\n",
      "Epoch 2/4\n",
      "49/49 [==============================] - 0s 8ms/step - loss: 0.2789 - accuracy: 0.9059\n",
      "Epoch 3/4\n",
      "49/49 [==============================] - 0s 8ms/step - loss: 0.2204 - accuracy: 0.9264\n",
      "Epoch 4/4\n",
      "49/49 [==============================] - 0s 9ms/step - loss: 0.1877 - accuracy: 0.9356\n",
      "782/782 [==============================] - 1s 916us/step - loss: 0.2828 - accuracy: 0.8872\n",
      "loss and accuracy: [0.28282561898231506, 0.8871999979019165]\n"
     ]
    }
   ],
   "source": [
    "# 1 layer model\n",
    "quick_model_test(num_hidden_layers=1)"
   ]
  },
  {
   "cell_type": "code",
   "execution_count": 26,
   "id": "c72de5d5",
   "metadata": {},
   "outputs": [
    {
     "name": "stdout",
     "output_type": "stream",
     "text": [
      "Epoch 1/4\n",
      "49/49 [==============================] - 1s 9ms/step - loss: 0.4371 - accuracy: 0.8272\n",
      "Epoch 2/4\n",
      "49/49 [==============================] - 0s 9ms/step - loss: 0.2454 - accuracy: 0.9117\n",
      "Epoch 3/4\n",
      "49/49 [==============================] - 0s 9ms/step - loss: 0.1915 - accuracy: 0.9310\n",
      "Epoch 4/4\n",
      "49/49 [==============================] - 0s 9ms/step - loss: 0.1607 - accuracy: 0.9419\n",
      "782/782 [==============================] - 1s 912us/step - loss: 0.3137 - accuracy: 0.8790\n",
      "loss and accuracy: [0.31372442841529846, 0.8789600133895874]\n"
     ]
    }
   ],
   "source": [
    "# 32-unit model\n",
    "quick_model_test(num_units=32)"
   ]
  },
  {
   "cell_type": "code",
   "execution_count": 27,
   "id": "e301d7d0",
   "metadata": {},
   "outputs": [
    {
     "name": "stdout",
     "output_type": "stream",
     "text": [
      "Epoch 1/4\n",
      "49/49 [==============================] - 1s 12ms/step - loss: 0.4235 - accuracy: 0.8170\n",
      "Epoch 2/4\n",
      "49/49 [==============================] - 1s 11ms/step - loss: 0.2375 - accuracy: 0.9092\n",
      "Epoch 3/4\n",
      "49/49 [==============================] - 1s 11ms/step - loss: 0.1764 - accuracy: 0.9322\n",
      "Epoch 4/4\n",
      "49/49 [==============================] - 1s 11ms/step - loss: 0.1392 - accuracy: 0.9482\n",
      "782/782 [==============================] - 1s 1ms/step - loss: 0.3594 - accuracy: 0.8644\n",
      "loss and accuracy: [0.35937994718551636, 0.864359974861145]\n"
     ]
    }
   ],
   "source": [
    "# 64-unit model\n",
    "quick_model_test(num_units=64)"
   ]
  },
  {
   "cell_type": "code",
   "execution_count": 28,
   "id": "0a127643",
   "metadata": {},
   "outputs": [
    {
     "name": "stdout",
     "output_type": "stream",
     "text": [
      "Epoch 1/4\n",
      "49/49 [==============================] - 3s 8ms/step - loss: 0.1456 - accuracy: 0.8280\n",
      "Epoch 2/4\n",
      "49/49 [==============================] - 0s 7ms/step - loss: 0.0771 - accuracy: 0.9096\n",
      "Epoch 3/4\n",
      "49/49 [==============================] - 0s 7ms/step - loss: 0.0584 - accuracy: 0.9308\n",
      "Epoch 4/4\n",
      "49/49 [==============================] - 0s 7ms/step - loss: 0.0477 - accuracy: 0.9443\n",
      "782/782 [==============================] - 1s 915us/step - loss: 0.0886 - accuracy: 0.8806\n",
      "loss and accuracy: [0.08861923217773438, 0.8805999755859375]\n"
     ]
    }
   ],
   "source": [
    "# mse loss function\n",
    "quick_model_test(loss_function='mse')"
   ]
  },
  {
   "cell_type": "code",
   "execution_count": 29,
   "id": "583639ec",
   "metadata": {},
   "outputs": [
    {
     "name": "stdout",
     "output_type": "stream",
     "text": [
      "Epoch 1/4\n",
      "49/49 [==============================] - 1s 8ms/step - loss: 0.4170 - accuracy: 0.8284\n",
      "Epoch 2/4\n",
      "49/49 [==============================] - 0s 8ms/step - loss: 0.2287 - accuracy: 0.9155\n",
      "Epoch 3/4\n",
      "49/49 [==============================] - 0s 8ms/step - loss: 0.1735 - accuracy: 0.9353\n",
      "Epoch 4/4\n",
      "49/49 [==============================] - 0s 8ms/step - loss: 0.1504 - accuracy: 0.9448\n",
      "782/782 [==============================] - 1s 945us/step - loss: 0.3585 - accuracy: 0.8671\n",
      "loss and accuracy: [0.3584569990634918, 0.8671200275421143]\n"
     ]
    }
   ],
   "source": [
    "quick_model_test(activation='tanh')"
   ]
  }
 ],
 "metadata": {
  "kernelspec": {
   "display_name": "Python 3 (ipykernel)",
   "language": "python",
   "name": "python3"
  },
  "language_info": {
   "codemirror_mode": {
    "name": "ipython",
    "version": 3
   },
   "file_extension": ".py",
   "mimetype": "text/x-python",
   "name": "python",
   "nbconvert_exporter": "python",
   "pygments_lexer": "ipython3",
   "version": "3.10.7"
  }
 },
 "nbformat": 4,
 "nbformat_minor": 5
}
