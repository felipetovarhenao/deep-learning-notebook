{
 "cells": [
  {
   "cell_type": "code",
   "execution_count": 1,
   "id": "8f5fcdfd",
   "metadata": {},
   "outputs": [],
   "source": [
    "#single label multi-class classification using Reuters newswires "
   ]
  },
  {
   "cell_type": "code",
   "execution_count": 2,
   "id": "96bbc041",
   "metadata": {},
   "outputs": [
    {
     "name": "stderr",
     "output_type": "stream",
     "text": [
      "2022-10-24 21:03:24.496550: I tensorflow/core/platform/cpu_feature_guard.cc:193] This TensorFlow binary is optimized with oneAPI Deep Neural Network Library (oneDNN) to use the following CPU instructions in performance-critical operations:  AVX2 FMA\n",
      "To enable them in other operations, rebuild TensorFlow with the appropriate compiler flags.\n"
     ]
    }
   ],
   "source": [
    "# import dataset and unpack\n",
    "from keras.datasets import reuters\n",
    "\n",
    "(train_data, train_labels), (test_data, test_labels) = reuters.load_data(num_words=10000)"
   ]
  },
  {
   "cell_type": "code",
   "execution_count": 3,
   "id": "944f6d7a",
   "metadata": {},
   "outputs": [
    {
     "data": {
      "text/plain": [
       "(8982, 2246)"
      ]
     },
     "execution_count": 3,
     "metadata": {},
     "output_type": "execute_result"
    }
   ],
   "source": [
    "len(train_data), len(test_data)"
   ]
  },
  {
   "cell_type": "code",
   "execution_count": 4,
   "id": "99e1d143",
   "metadata": {},
   "outputs": [
    {
     "name": "stdout",
     "output_type": "stream",
     "text": [
      "[1, 2, 2, 8, 43, 10, 447, 5, 25, 207, 270, 5, 3095, 111, 16, 369, 186, 90, 67, 7, 89, 5, 19, 102, 6, 19, 124, 15, 90, 67, 84, 22, 482, 26, 7, 48, 4, 49, 8, 864, 39, 209, 154, 6, 151, 6, 83, 11, 15, 22, 155, 11, 15, 7, 48, 9, 4579, 1005, 504, 6, 258, 6, 272, 11, 15, 22, 134, 44, 11, 15, 16, 8, 197, 1245, 90, 67, 52, 29, 209, 30, 32, 132, 6, 109, 15, 17, 12]\n"
     ]
    }
   ],
   "source": [
    "# as with IMDB dataset, test is encoded with integer indices\n",
    "print(train_data[0])"
   ]
  },
  {
   "cell_type": "code",
   "execution_count": 5,
   "id": "4f2d9703",
   "metadata": {},
   "outputs": [
    {
     "data": {
      "text/plain": [
       "'_ _ _ said as a result of its december acquisition of space co it expects earnings per share in 1987 of 1 15 to 1 30 dlrs per share up from 70 cts in 1986 the company said pretax net should rise to nine to 10 mln dlrs from six mln dlrs in 1986 and rental operation revenues to 19 to 22 mln dlrs from 12 5 mln dlrs it said cash flow per share this year should be 2 50 to three dlrs reuter 3'"
      ]
     },
     "execution_count": 5,
     "metadata": {},
     "output_type": "execute_result"
    }
   ],
   "source": [
    "# decoding the first newswire for demo purposes\n",
    "word_index = reuters.get_word_index()\n",
    "reverse_word_index = dict([(value, key) for key, value in word_index.items()])\n",
    "decoded_newswire = ' '.join(reverse_word_index.get(i - 3, '_') for i in train_data[0])\n",
    "\n",
    "decoded_newswire"
   ]
  },
  {
   "cell_type": "code",
   "execution_count": 6,
   "id": "34c10b93",
   "metadata": {},
   "outputs": [
    {
     "data": {
      "text/plain": [
       "3"
      ]
     },
     "execution_count": 6,
     "metadata": {},
     "output_type": "execute_result"
    }
   ],
   "source": [
    "# labels range from 0 to 45, 46 classes/topics total\n",
    "train_labels[0]"
   ]
  },
  {
   "cell_type": "code",
   "execution_count": 9,
   "id": "48c7bf55",
   "metadata": {},
   "outputs": [],
   "source": [
    "# helper function to vectorize data as binary masks (one-hot encoding a.k.a categorical encoding)\n",
    "import numpy as np\n",
    "def vectorize_sequences(sequences, dimension=10000):\n",
    "    results = np.zeros((len(sequences), dimension))\n",
    "    for i, sequence in enumerate(sequences):\n",
    "        results[i, sequence] = 1.0\n",
    "    return results"
   ]
  },
  {
   "cell_type": "code",
   "execution_count": 10,
   "id": "f7365d53",
   "metadata": {},
   "outputs": [],
   "source": [
    "x_train = vectorize_sequences(train_data)\n",
    "x_test = vectorize_sequences(test_data)"
   ]
  },
  {
   "cell_type": "code",
   "execution_count": 13,
   "id": "437de68d",
   "metadata": {},
   "outputs": [
    {
     "data": {
      "text/plain": [
       "array([0., 0., 0., 1., 0., 0., 0., 0., 0., 0., 0., 0., 0., 0., 0., 0., 0.,\n",
       "       0., 0., 0., 0., 0., 0., 0., 0., 0., 0., 0., 0., 0., 0., 0., 0., 0.,\n",
       "       0., 0., 0., 0., 0., 0., 0., 0., 0., 0., 0., 0.])"
      ]
     },
     "execution_count": 13,
     "metadata": {},
     "output_type": "execute_result"
    }
   ],
   "source": [
    "# we can apply the same function to the labels, since they are multi-class\n",
    "x_labels = vectorize_sequences(train_labels, dimension=46)\n",
    "y_labels = vectorize_sequences(test_labels, dimension=46)\n",
    "\n",
    "x_labels[0]"
   ]
  },
  {
   "cell_type": "code",
   "execution_count": 17,
   "id": "7a2d35ca",
   "metadata": {},
   "outputs": [
    {
     "data": {
      "text/plain": [
       "array([0., 0., 0., 1., 0., 0., 0., 0., 0., 0., 0., 0., 0., 0., 0., 0., 0.,\n",
       "       0., 0., 0., 0., 0., 0., 0., 0., 0., 0., 0., 0., 0., 0., 0., 0., 0.,\n",
       "       0., 0., 0., 0., 0., 0., 0., 0., 0., 0., 0., 0.], dtype=float32)"
      ]
     },
     "execution_count": 17,
     "metadata": {},
     "output_type": "execute_result"
    }
   ],
   "source": [
    "# keras has a built-in function that does the same (notice the data type difference)\n",
    "from keras.utils.np_utils import to_categorical\n",
    "\n",
    "one_hot_train_labels = to_categorical(train_labels)\n",
    "one_hot_test_labels = to_categorical(test_labels)\n",
    "\n",
    "one_hot_train_labels[0]"
   ]
  },
  {
   "cell_type": "code",
   "execution_count": 20,
   "id": "594bdc67",
   "metadata": {},
   "outputs": [],
   "source": [
    "# model with 64-unit layers, since 16 units is too restrictive for a 46-class classification problem.\n",
    "from keras import models, layers\n",
    "\n",
    "model = models.Sequential()\n",
    "model.add(layers.Dense(64, activation='relu', input_shape=(10000,)))\n",
    "model.add(layers.Dense(64, activation='relu'))\n",
    "model.add(layers.Dense(46, activation='softmax'))"
   ]
  },
  {
   "cell_type": "code",
   "execution_count": 21,
   "id": "9a498feb",
   "metadata": {},
   "outputs": [],
   "source": [
    "# using 'categorical_crossentropy' as a loss function, since classification is no longer binary\n",
    "model.compile(\n",
    "    optimizer='rmsprop',\n",
    "    loss='categorical_crossentropy',\n",
    "    metrics=['accuracy'])"
   ]
  },
  {
   "cell_type": "code",
   "execution_count": 22,
   "id": "0f2e2c29",
   "metadata": {},
   "outputs": [],
   "source": [
    "# split test set into (partial) test and validation sets\n",
    "validation_size = 1000\n",
    "x_val = x_train[:validation_size]\n",
    "partial_x_train = x_train[validation_size:]\n",
    "\n",
    "y_val = one_hot_train_labels[:validation_size]\n",
    "partial_y_train = one_hot_train_labels[validation_size:]"
   ]
  },
  {
   "cell_type": "code",
   "execution_count": 23,
   "id": "b268df18",
   "metadata": {},
   "outputs": [
    {
     "name": "stdout",
     "output_type": "stream",
     "text": [
      "Epoch 1/20\n",
      "16/16 [==============================] - 1s 28ms/step - loss: 2.4964 - accuracy: 0.5492 - val_loss: 1.6726 - val_accuracy: 0.6390\n",
      "Epoch 2/20\n",
      "16/16 [==============================] - 0s 14ms/step - loss: 1.3881 - accuracy: 0.7046 - val_loss: 1.2946 - val_accuracy: 0.7140\n",
      "Epoch 3/20\n",
      "16/16 [==============================] - 0s 15ms/step - loss: 1.0542 - accuracy: 0.7770 - val_loss: 1.1487 - val_accuracy: 0.7420\n",
      "Epoch 4/20\n",
      "16/16 [==============================] - 0s 14ms/step - loss: 0.8322 - accuracy: 0.8237 - val_loss: 1.0379 - val_accuracy: 0.7850\n",
      "Epoch 5/20\n",
      "16/16 [==============================] - 0s 15ms/step - loss: 0.6552 - accuracy: 0.8627 - val_loss: 0.9636 - val_accuracy: 0.8070\n",
      "Epoch 6/20\n",
      "16/16 [==============================] - 0s 15ms/step - loss: 0.5227 - accuracy: 0.8896 - val_loss: 0.9200 - val_accuracy: 0.8150\n",
      "Epoch 7/20\n",
      "16/16 [==============================] - 0s 14ms/step - loss: 0.4174 - accuracy: 0.9122 - val_loss: 0.9592 - val_accuracy: 0.7960\n",
      "Epoch 8/20\n",
      "16/16 [==============================] - 0s 14ms/step - loss: 0.3411 - accuracy: 0.9263 - val_loss: 0.8869 - val_accuracy: 0.8180\n",
      "Epoch 9/20\n",
      "16/16 [==============================] - 0s 14ms/step - loss: 0.2820 - accuracy: 0.9381 - val_loss: 0.9079 - val_accuracy: 0.8210\n",
      "Epoch 10/20\n",
      "16/16 [==============================] - 0s 15ms/step - loss: 0.2362 - accuracy: 0.9442 - val_loss: 0.9605 - val_accuracy: 0.8080\n",
      "Epoch 11/20\n",
      "16/16 [==============================] - 0s 15ms/step - loss: 0.2038 - accuracy: 0.9486 - val_loss: 0.9492 - val_accuracy: 0.8040\n",
      "Epoch 12/20\n",
      "16/16 [==============================] - 0s 14ms/step - loss: 0.1832 - accuracy: 0.9516 - val_loss: 0.9718 - val_accuracy: 0.8100\n",
      "Epoch 13/20\n",
      "16/16 [==============================] - 0s 14ms/step - loss: 0.1629 - accuracy: 0.9539 - val_loss: 0.9478 - val_accuracy: 0.8120\n",
      "Epoch 14/20\n",
      "16/16 [==============================] - 0s 22ms/step - loss: 0.1494 - accuracy: 0.9554 - val_loss: 1.0050 - val_accuracy: 0.7920\n",
      "Epoch 15/20\n",
      "16/16 [==============================] - 0s 20ms/step - loss: 0.1383 - accuracy: 0.9553 - val_loss: 1.0094 - val_accuracy: 0.8000\n",
      "Epoch 16/20\n",
      "16/16 [==============================] - 0s 14ms/step - loss: 0.1363 - accuracy: 0.9555 - val_loss: 0.9982 - val_accuracy: 0.8110\n",
      "Epoch 17/20\n",
      "16/16 [==============================] - 0s 14ms/step - loss: 0.1253 - accuracy: 0.9557 - val_loss: 1.0307 - val_accuracy: 0.8020\n",
      "Epoch 18/20\n",
      "16/16 [==============================] - 0s 14ms/step - loss: 0.1205 - accuracy: 0.9563 - val_loss: 1.0938 - val_accuracy: 0.7940\n",
      "Epoch 19/20\n",
      "16/16 [==============================] - 0s 14ms/step - loss: 0.1177 - accuracy: 0.9565 - val_loss: 1.0803 - val_accuracy: 0.8070\n",
      "Epoch 20/20\n",
      "16/16 [==============================] - 0s 15ms/step - loss: 0.1097 - accuracy: 0.9578 - val_loss: 1.0832 - val_accuracy: 0.8000\n"
     ]
    }
   ],
   "source": [
    "# train model\n",
    "history = model.fit(partial_x_train,\n",
    "                    partial_y_train,\n",
    "                   epochs=20,\n",
    "                   batch_size=512,\n",
    "                   validation_data=(x_val, y_val))"
   ]
  },
  {
   "cell_type": "code",
   "execution_count": 29,
   "id": "3aeb29ec",
   "metadata": {},
   "outputs": [
    {
     "data": {
      "image/png": "[encoded data removed]",
      "text/plain": [
       "<Figure size 640x480 with 1 Axes>"
      ]
     },
     "metadata": {},
     "output_type": "display_data"
    }
   ],
   "source": [
    "# plot training and validation loss\n",
    "import matplotlib.pyplot as plt\n",
    "\n",
    "loss = history.history['loss']\n",
    "val_loss = history.history['val_loss']\n",
    "\n",
    "epochs = range(1, len(loss) + 1)\n",
    "\n",
    "accuracy = history.history['accuracy']\n",
    "val_accuracy = history.history['val_accuracy']\n",
    "\n",
    "plt.plot(epochs, loss, 'bo', label='Training loss')\n",
    "plt.plot(epochs, val_loss, 'b', label='Validation loss')\n",
    "plt.xlabel('Epochs')\n",
    "plt.ylabel('Loss')\n",
    "plt.title('Training and validation loss')\n",
    "plt.legend()\n",
    "\n",
    "plt.show()"
   ]
  },
  {
   "cell_type": "code",
   "execution_count": 30,
   "id": "3efa7423",
   "metadata": {},
   "outputs": [
    {
     "data": {
      "image/png": "[encoded data removed]",
      "text/plain": [
       "<Figure size 640x480 with 1 Axes>"
      ]
     },
     "metadata": {},
     "output_type": "display_data"
    }
   ],
   "source": [
    "# plot training and validation accuracy\n",
    "plt.clf()\n",
    "\n",
    "accuracy = history.history['accuracy']\n",
    "val_accuracy = history.history['val_accuracy']\n",
    "\n",
    "epochs = range(1, len(accuracy) + 1)\n",
    "\n",
    "plt.plot(accuracy, 'bo', label='Training accuracy')\n",
    "plt.plot(val_accuracy, 'b', label='Validation accuracy')\n",
    "plt.title('Training and validation accuracy')\n",
    "plt.xlabel('Epochs')\n",
    "plt.ylabel('Accuracy')\n",
    "plt.legend()\n",
    "\n",
    "plt.show()"
   ]
  },
  {
   "cell_type": "code",
   "execution_count": 32,
   "id": "cd34b693",
   "metadata": {},
   "outputs": [],
   "source": [
    "# the point at which the line converges is a sign of training overfitting\n",
    "# in this case, around 9 epochs"
   ]
  },
  {
   "cell_type": "code",
   "execution_count": 34,
   "id": "b6835dfd",
   "metadata": {},
   "outputs": [
    {
     "name": "stdout",
     "output_type": "stream",
     "text": [
      "Epoch 1/9\n",
      "16/16 [==============================] - 1s 26ms/step - loss: 2.6612 - accuracy: 0.4698 - val_loss: 1.7152 - val_accuracy: 0.6430\n",
      "Epoch 2/9\n",
      "16/16 [==============================] - 0s 14ms/step - loss: 1.3965 - accuracy: 0.7120 - val_loss: 1.2797 - val_accuracy: 0.7300\n",
      "Epoch 3/9\n",
      "16/16 [==============================] - 0s 14ms/step - loss: 1.0219 - accuracy: 0.7925 - val_loss: 1.1036 - val_accuracy: 0.7780\n",
      "Epoch 4/9\n",
      "16/16 [==============================] - 0s 15ms/step - loss: 0.7960 - accuracy: 0.8312 - val_loss: 1.0017 - val_accuracy: 0.7950\n",
      "Epoch 5/9\n",
      "16/16 [==============================] - 0s 15ms/step - loss: 0.6320 - accuracy: 0.8626 - val_loss: 0.9420 - val_accuracy: 0.8040\n",
      "Epoch 6/9\n",
      "16/16 [==============================] - 0s 14ms/step - loss: 0.5068 - accuracy: 0.8958 - val_loss: 0.9247 - val_accuracy: 0.8010\n",
      "Epoch 7/9\n",
      "16/16 [==============================] - 0s 15ms/step - loss: 0.4065 - accuracy: 0.9173 - val_loss: 0.8847 - val_accuracy: 0.8140\n",
      "Epoch 8/9\n",
      "16/16 [==============================] - 0s 14ms/step - loss: 0.3287 - accuracy: 0.9316 - val_loss: 0.8901 - val_accuracy: 0.8080\n",
      "Epoch 9/9\n",
      "16/16 [==============================] - 0s 15ms/step - loss: 0.2761 - accuracy: 0.9392 - val_loss: 0.9077 - val_accuracy: 0.8070\n",
      "71/71 [==============================] - 0s 1ms/step - loss: 0.9903 - accuracy: 0.7818\n"
     ]
    },
    {
     "data": {
      "text/plain": [
       "'loss and accuracy: [0.9903295040130615, 0.7818343639373779]'"
      ]
     },
     "execution_count": 34,
     "metadata": {},
     "output_type": "execute_result"
    }
   ],
   "source": [
    "# rebuild and train model using only 9 epochs\n",
    "model = models.Sequential()\n",
    "model.add(layers.Dense(64, activation='relu', input_shape=(10000,)))\n",
    "model.add(layers.Dense(64, activation='relu'))\n",
    "model.add(layers.Dense(46, activation='softmax'))\n",
    "\n",
    "model.compile(\n",
    "    optimizer='rmsprop',\n",
    "    loss='categorical_crossentropy',\n",
    "    metrics=['accuracy'])\n",
    "\n",
    "model.fit(partial_x_train,\n",
    "        partial_y_train,\n",
    "        epochs=9,\n",
    "        batch_size=512,\n",
    "        validation_data=(x_val, y_val))\n",
    "\n",
    "model_eval = model.evaluate(x_test, one_hot_test_labels)\n",
    "f'loss and accuracy: {model_eval}'"
   ]
  },
  {
   "cell_type": "code",
   "execution_count": 35,
   "id": "a254e75a",
   "metadata": {},
   "outputs": [
    {
     "name": "stdout",
     "output_type": "stream",
     "text": [
      "71/71 [==============================] - 0s 937us/step\n"
     ]
    }
   ],
   "source": [
    "# using model to predict new data\n",
    "predictions = model.predict(x_test)"
   ]
  },
  {
   "cell_type": "code",
   "execution_count": 37,
   "id": "93683916",
   "metadata": {},
   "outputs": [
    {
     "data": {
      "text/plain": [
       "(46,)"
      ]
     },
     "execution_count": 37,
     "metadata": {},
     "output_type": "execute_result"
    }
   ],
   "source": [
    "# each entry in predictions is a vector of length 46\n",
    "predictions[0].shape"
   ]
  },
  {
   "cell_type": "code",
   "execution_count": 38,
   "id": "e7351fe6",
   "metadata": {},
   "outputs": [
    {
     "data": {
      "text/plain": [
       "3"
      ]
     },
     "execution_count": 38,
     "metadata": {},
     "output_type": "execute_result"
    }
   ],
   "source": [
    "# the most likely category in the first prediction\n",
    "np.argmax(predictions[0])"
   ]
  },
  {
   "cell_type": "code",
   "execution_count": 39,
   "id": "9deb7188",
   "metadata": {},
   "outputs": [],
   "source": [
    "# trying a different label encoding method, casting them as tensors (i.e, np arrays)\n",
    "y_train = np.array(train_labels)\n",
    "y_test = np.array(test_labels)"
   ]
  },
  {
   "cell_type": "code",
   "execution_count": 41,
   "id": "e3b53124",
   "metadata": {},
   "outputs": [],
   "source": [
    "# this only changes the choice of the loss function, but the underlying math is the same\n",
    "# categorical_crossentropy, expects the labels to follow a categorical encoding\n",
    "# with integer labels, we use sparse_categorical_crossentropy\n",
    "# is mathematically the same as categorical_crossentropy, it just has a different interface\n",
    "model.compile(optimizer='rmsprop',\n",
    "              loss='sparse_categorical_crossentropy',\n",
    "              metrics=['accuracy'])"
   ]
  },
  {
   "cell_type": "code",
   "execution_count": 42,
   "id": "4490ed29",
   "metadata": {},
   "outputs": [
    {
     "name": "stdout",
     "output_type": "stream",
     "text": [
      "Epoch 1/20\n",
      "63/63 [==============================] - 1s 12ms/step - loss: 2.8296 - accuracy: 0.2962 - val_loss: 2.0375 - val_accuracy: 0.5380\n",
      "Epoch 2/20\n",
      "63/63 [==============================] - 1s 9ms/step - loss: 1.6851 - accuracy: 0.5892 - val_loss: 1.5769 - val_accuracy: 0.6130\n",
      "Epoch 3/20\n",
      "63/63 [==============================] - 1s 8ms/step - loss: 1.3577 - accuracy: 0.6685 - val_loss: 1.4509 - val_accuracy: 0.6610\n",
      "Epoch 4/20\n",
      "63/63 [==============================] - 1s 8ms/step - loss: 1.1833 - accuracy: 0.7174 - val_loss: 1.4023 - val_accuracy: 0.6760\n",
      "Epoch 5/20\n",
      "63/63 [==============================] - 1s 9ms/step - loss: 1.0647 - accuracy: 0.7349 - val_loss: 1.3748 - val_accuracy: 0.6800\n",
      "Epoch 6/20\n",
      "63/63 [==============================] - 1s 9ms/step - loss: 0.9695 - accuracy: 0.7447 - val_loss: 1.3863 - val_accuracy: 0.6810\n",
      "Epoch 7/20\n",
      "63/63 [==============================] - 1s 9ms/step - loss: 0.8921 - accuracy: 0.7621 - val_loss: 1.3600 - val_accuracy: 0.6920\n",
      "Epoch 8/20\n",
      "63/63 [==============================] - 1s 9ms/step - loss: 0.8225 - accuracy: 0.7804 - val_loss: 1.4087 - val_accuracy: 0.6860\n",
      "Epoch 9/20\n",
      "63/63 [==============================] - 1s 9ms/step - loss: 0.7597 - accuracy: 0.7935 - val_loss: 1.4184 - val_accuracy: 0.6940\n",
      "Epoch 10/20\n",
      "63/63 [==============================] - 1s 9ms/step - loss: 0.7049 - accuracy: 0.8039 - val_loss: 1.4852 - val_accuracy: 0.6940\n",
      "Epoch 11/20\n",
      "63/63 [==============================] - 1s 9ms/step - loss: 0.6572 - accuracy: 0.8196 - val_loss: 1.4984 - val_accuracy: 0.7020\n",
      "Epoch 12/20\n",
      "63/63 [==============================] - 1s 9ms/step - loss: 0.6110 - accuracy: 0.8370 - val_loss: 1.5501 - val_accuracy: 0.7030\n",
      "Epoch 13/20\n",
      "63/63 [==============================] - 1s 9ms/step - loss: 0.5763 - accuracy: 0.8508 - val_loss: 1.6094 - val_accuracy: 0.6930\n",
      "Epoch 14/20\n",
      "63/63 [==============================] - 1s 9ms/step - loss: 0.5428 - accuracy: 0.8555 - val_loss: 1.6498 - val_accuracy: 0.7010\n",
      "Epoch 15/20\n",
      "63/63 [==============================] - 1s 9ms/step - loss: 0.5134 - accuracy: 0.8597 - val_loss: 1.7120 - val_accuracy: 0.6930\n",
      "Epoch 16/20\n",
      "63/63 [==============================] - 1s 9ms/step - loss: 0.4853 - accuracy: 0.8681 - val_loss: 1.7723 - val_accuracy: 0.7040\n",
      "Epoch 17/20\n",
      "63/63 [==============================] - 1s 9ms/step - loss: 0.4646 - accuracy: 0.8696 - val_loss: 1.8465 - val_accuracy: 0.7000\n",
      "Epoch 18/20\n",
      "63/63 [==============================] - 1s 9ms/step - loss: 0.4434 - accuracy: 0.8758 - val_loss: 1.8958 - val_accuracy: 0.6960\n",
      "Epoch 19/20\n",
      "63/63 [==============================] - 1s 9ms/step - loss: 0.4244 - accuracy: 0.8791 - val_loss: 1.9353 - val_accuracy: 0.6960\n",
      "Epoch 20/20\n",
      "63/63 [==============================] - 1s 8ms/step - loss: 0.4077 - accuracy: 0.8825 - val_loss: 2.0471 - val_accuracy: 0.6870\n"
     ]
    },
    {
     "data": {
      "text/plain": [
       "<keras.callbacks.History at 0x162d67760>"
      ]
     },
     "execution_count": 42,
     "metadata": {},
     "output_type": "execute_result"
    }
   ],
   "source": [
    "# because the final outputs are 46-dimensional\n",
    "# we should avoid intermediate layers with many fewer than 46 hidden units.\n",
    "# here's a NN wit one layer having 4 units\n",
    "model = models.Sequential()\n",
    "model.add(layers.Dense(64, activation='relu', input_shape=(10000,)))\n",
    "model.add(layers.Dense(4, activation='relu'))\n",
    "model.add(layers.Dense(46, activation='softmax'))\n",
    "model.compile(optimizer='rmsprop',\n",
    "              loss='categorical_crossentropy',\n",
    "              metrics=['accuracy'])\n",
    "model.fit(partial_x_train,\n",
    "          partial_y_train,\n",
    "          epochs=20,\n",
    "          batch_size=128,\n",
    "          validation_data=(x_val, y_val))"
   ]
  },
  {
   "cell_type": "code",
   "execution_count": null,
   "id": "913f1129",
   "metadata": {},
   "outputs": [],
   "source": [
    "# it gets stuck at 0.87"
   ]
  }
 ],
 "metadata": {
  "kernelspec": {
   "display_name": "Python 3 (ipykernel)",
   "language": "python",
   "name": "python3"
  },
  "language_info": {
   "codemirror_mode": {
    "name": "ipython",
    "version": 3
   },
   "file_extension": ".py",
   "mimetype": "text/x-python",
   "name": "python",
   "nbconvert_exporter": "python",
   "pygments_lexer": "ipython3",
   "version": "3.10.7"
  }
 },
 "nbformat": 4,
 "nbformat_minor": 5
}
